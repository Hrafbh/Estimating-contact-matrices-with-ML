{
 "cells": [
  {
   "cell_type": "code",
   "execution_count": 64,
   "metadata": {},
   "outputs": [],
   "source": [
    "#importation des bibliothéques\n",
    "import numpy as np\n",
    "import matplotlib.pyplot as plt\n",
    "import copy\n",
    "import pandas as pd\n",
    "from sklearn.metrics import mean_squared_error\n",
    "from sklearn import metrics"
   ]
  },
  {
   "cell_type": "code",
   "execution_count": 65,
   "metadata": {},
   "outputs": [
    {
     "name": "stdout",
     "output_type": "stream",
     "text": [
      "0.26654\n",
      "2800\n"
     ]
    }
   ],
   "source": [
    "data=pd.read_csv(r\"E:\\Hraf\\S8\\Projet à Enjeux\\Projet Enjeux\\synthetic_contacts_2021.csv\")\n",
    "data=data.to_numpy()\n",
    "Y=data[0]\n",
    "#print(data[(((3+1)*5)-4)*((256-(16*(1+0)))+0)][5],data[(((3+1)*5)-4)*((256-(16*(1+1)))+0)][5],data[(((3+1)*5)-4)*((256-(16*(1+2)))+0)][5],data[(((3+1)*5)-4)*((256-(16*(1+3)))+0)][5],data[(((3+1)*5)-4)*((256-(16*(1+1)))+1)][0])\n",
    "print(data[2630][5])\n",
    "print(((256-(16*(1+0)))+0)+256*(5*2))\n"
   ]
  },
  {
   "cell_type": "code",
   "execution_count": 66,
   "metadata": {},
   "outputs": [
    {
     "name": "stderr",
     "output_type": "stream",
     "text": [
      "c:\\Users\\Achra\\anaconda3\\lib\\site-packages\\IPython\\core\\interactiveshell.py:3364: FutureWarning: As the xlwt package is no longer maintained, the xlwt engine will be removed in a future version of pandas. This is the only engine in pandas that supports writing in the xls format. Install openpyxl and write to an xlsx file instead. You can set the option io.excel.xls.writer to 'xlwt' to silence this warning. While this option is deprecated and will also raise a warning, it can be globally set and the warning suppressed.\n",
      "  if (await self.run_code(code, result,  async_=asy)):\n"
     ]
    }
   ],
   "source": [
    "C=np.zeros((16,16))\n",
    "with pd.ExcelWriter('data_contact_home.xls') as writer:\n",
    "    for i in range(150):\n",
    "        C=np.zeros((16,16))\n",
    "        for j in range(16):\n",
    "            for k in range(16):\n",
    "                C[j][k]=data[((256-(16*(1+j)))+k)+256*(5*i)][5] \n",
    "        pd.DataFrame(C).to_excel(writer, sheet_name=f'matrice_{data[((256-(16*(1+10)))+10)+256*(5*i)][0]}', index=False) "
   ]
  },
  {
   "cell_type": "code",
   "execution_count": 67,
   "metadata": {},
   "outputs": [],
   "source": [
    "C=np.zeros((16,16))\n",
    "with pd.ExcelWriter('data_contact_work.xls') as writer:\n",
    "    for i in range(150):\n",
    "        for j in range(16):\n",
    "            for k in range(16):\n",
    "                C[j][k]=data[((256-(16*(1+j)))+k)+256*((5*i)+1)][5] \n",
    "        pd.DataFrame(C).to_excel(writer, sheet_name=f'matrice_{data[((256-(16*(1+10)))+10)+256*((5*i)+1)][0]}', index=False) "
   ]
  },
  {
   "cell_type": "code",
   "execution_count": 68,
   "metadata": {},
   "outputs": [],
   "source": [
    "C=np.zeros((16,16))\n",
    "with pd.ExcelWriter('data_contact_school.xls') as writer:\n",
    "    for i in range(150):\n",
    "        for j in range(16):\n",
    "            for k in range(16):\n",
    "                C[j][k]=data[((256-(16*(1+j)))+k)+256*((5*i)+2)][5] \n",
    "        pd.DataFrame(C).to_excel(writer, sheet_name=f'matrice_{data[((256-(16*(1+10)))+10)+256*((5*i)+2)][0]}', index=False)"
   ]
  },
  {
   "cell_type": "code",
   "execution_count": 69,
   "metadata": {},
   "outputs": [],
   "source": [
    "C=np.zeros((16,16))\n",
    "with pd.ExcelWriter('data_contact_others.xls') as writer:\n",
    "    for i in range(150):\n",
    "        for j in range(16):\n",
    "            for k in range(16):\n",
    "                C[j][k]=data[((256-(16*(1+j)))+k)+256*((5*i)+3)][5] \n",
    "        pd.DataFrame(C).to_excel(writer, sheet_name=f'matrice_{data[((256-(16*(1+10)))+10)+256*((5*i)+3)][0]}', index=False)"
   ]
  },
  {
   "cell_type": "code",
   "execution_count": 70,
   "metadata": {},
   "outputs": [],
   "source": [
    "C=np.zeros((16,16))\n",
    "with pd.ExcelWriter('data_contact_all.xls') as writer:\n",
    "    for i in range(150):\n",
    "        for j in range(16):\n",
    "            for k in range(16):\n",
    "                C[j][k]=data[((256-(16*(1+j)))+k)+256*((5*i)+4)][5] \n",
    "        pd.DataFrame(C).to_excel(writer, sheet_name=f'matrice_{data[((256-(16*(1+10)))+10)+256*((5*i)+4)][0]}', index=False)"
   ]
  }
 ],
 "metadata": {
  "kernelspec": {
   "display_name": "base",
   "language": "python",
   "name": "python3"
  },
  "language_info": {
   "codemirror_mode": {
    "name": "ipython",
    "version": 3
   },
   "file_extension": ".py",
   "mimetype": "text/x-python",
   "name": "python",
   "nbconvert_exporter": "python",
   "pygments_lexer": "ipython3",
   "version": "3.9.7"
  },
  "orig_nbformat": 4
 },
 "nbformat": 4,
 "nbformat_minor": 2
}
